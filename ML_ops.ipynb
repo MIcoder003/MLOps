{
  "nbformat": 4,
  "nbformat_minor": 0,
  "metadata": {
    "colab": {
      "provenance": [],
      "authorship_tag": "ABX9TyMnbFemfSmyhG7UPQxPoDXX",
      "include_colab_link": true
    },
    "kernelspec": {
      "name": "python3",
      "display_name": "Python 3"
    },
    "language_info": {
      "name": "python"
    }
  },
  "cells": [
    {
      "cell_type": "markdown",
      "metadata": {
        "id": "view-in-github",
        "colab_type": "text"
      },
      "source": [
        "<a href=\"https://colab.research.google.com/github/MIcoder003/MLOps/blob/main/ML_ops.ipynb\" target=\"_parent\"><img src=\"https://colab.research.google.com/assets/colab-badge.svg\" alt=\"Open In Colab\"/></a>"
      ]
    },
    {
      "cell_type": "markdown",
      "source": [
        "**ML OPS - Made with ML notes**\n"
      ],
      "metadata": {
        "id": "BmPc3VzYh3j9"
      }
    },
    {
      "cell_type": "markdown",
      "source": [
        "1. Data\n",
        "\n",
        "  a. Pre-preocess function\n",
        "\n",
        "2. Model\n",
        "\n",
        "  1. Set up -\n",
        "    \n",
        "    a. seeds, preprocessor, data loader(from source data to ray dataset)\n",
        "   \n",
        "    b. model - load pretrainied model and write the finetuning function with prediction method\n",
        "\n",
        "    c. batching - collate function\n",
        "\n",
        "    d. Utilities - train step, evaluation step, train per worker\n",
        "\n",
        "    e. Configurations - training config, scaling config, Checkpoint config an d runnning config\n",
        "\n",
        "  2. Training\n",
        "\n",
        "    a. loading and split data\n",
        "    \n",
        "    b. data configurations\n",
        "\n",
        "    c. Data Preprocessing\n",
        "    \n",
        "    d. Trainier\n",
        "\n",
        "    e. Train data\n",
        "\n",
        "  3. Evaluation\n",
        "\n",
        "\n",
        "\n",
        "  4. Inference\n",
        "\n",
        "3. Tracking\n",
        "\n",
        "4. Tuning\n"
      ],
      "metadata": {
        "id": "l5Z85q7NeZVt"
      }
    },
    {
      "cell_type": "markdown",
      "source": [
        "**DATA**\n",
        "\n",
        "Pre-processing\n"
      ],
      "metadata": {
        "id": "GTEgrTReqDVj"
      }
    },
    {
      "cell_type": "code",
      "source": [
        "# Preprocess function\n",
        "def preprocess(ds, class_to_index):\n",
        "  \"\"\"Function to transform data\"\"\"\n",
        "\n",
        "  return outputs"
      ],
      "metadata": {
        "id": "KaXbNyUJqC_j"
      },
      "execution_count": null,
      "outputs": []
    },
    {
      "cell_type": "markdown",
      "source": [
        "Setup"
      ],
      "metadata": {
        "id": "iy8H4y7YkoEc"
      }
    },
    {
      "cell_type": "code",
      "execution_count": null,
      "metadata": {
        "id": "qbdZ2n31kmjB"
      },
      "outputs": [],
      "source": [
        "# imports"
      ]
    },
    {
      "cell_type": "code",
      "source": [
        "# Seeds for reproducibility\n",
        "\n",
        "def set_seed(seed=42):\n",
        "  \"\"\"Set seeds for reproducibility\"\"\"\n",
        "\n"
      ],
      "metadata": {
        "id": "2_o-ACSOkpuy"
      },
      "execution_count": null,
      "outputs": []
    },
    {
      "cell_type": "code",
      "source": [
        "# Load Dataffunction - ingest data and return a ray dataset\n",
        "\n",
        "def load_data(num_samples):\n",
        "  return ds"
      ],
      "metadata": {
        "id": "0fsNX5IolXOP"
      },
      "execution_count": null,
      "outputs": []
    },
    {
      "cell_type": "code",
      "source": [
        "# Custom preprocessor class\n",
        "\n",
        "class CustomPreprocessor(Preprocessor):\n",
        "  \"\"\"Custom preprocessor class\"\"\"\n",
        "  def _fit(self, ds):\n",
        "\n",
        "\n",
        "  def _trainsform_numpy(self, batch):\n",
        "    return preprocess(batch, class_to_index = )"
      ],
      "metadata": {
        "id": "mncq73t4mKFQ"
      },
      "execution_count": null,
      "outputs": []
    },
    {
      "cell_type": "markdown",
      "source": [
        "Model"
      ],
      "metadata": {
        "id": "QOOHzhkTkqSZ"
      }
    },
    {
      "cell_type": "code",
      "source": [
        "# Import pre trained model"
      ],
      "metadata": {
        "id": "6_67KSDvlhyG"
      },
      "execution_count": null,
      "outputs": []
    },
    {
      "cell_type": "code",
      "source": [
        "# Finetuned model class\n",
        "\n",
        "## reference : https://rumn.medium.com/part-1-ultimate-guide-to-fine-tuning-in-pytorch-pre-trained-model-and-its-configuration-8990194b71e\n",
        "\n",
        "class FinetunedModel(nn.module):\n",
        "  def __init__(self, pretrainedmodel, dropout_p, feature_dim, num_classes):\n",
        "    super(FinetunedModel, self).__init__():\n",
        "    self.pretrainedmodel = pretrainedmodel\n",
        "    self.dropout = torch.nn.Dropout(dropout_p)\n",
        "    modefc1 = nn.Linearr(feature_dim, num_classes)\n",
        "\n",
        "  def forward(self, batch):\n",
        "    return x\n",
        "\n",
        "  @torch.inference_mode\n",
        "  def predict(self, batch):\n",
        "    return y_pred\n",
        "\n",
        "  @torch.inference_mode\n",
        "  def predict_prob(self, batch):\n",
        "    return y_pro"
      ],
      "metadata": {
        "id": "pzPYuoXBlk-o"
      },
      "execution_count": null,
      "outputs": []
    },
    {
      "cell_type": "code",
      "source": [
        "# Inspect model layers"
      ],
      "metadata": {
        "id": "pbav72PPl7ps"
      },
      "execution_count": null,
      "outputs": []
    },
    {
      "cell_type": "markdown",
      "source": [
        "Batching"
      ],
      "metadata": {
        "id": "n5Z40k35ksav"
      }
    },
    {
      "cell_type": "code",
      "source": [
        "# Padding and Collate function"
      ],
      "metadata": {
        "id": "Hya5M-3GkykH"
      },
      "execution_count": null,
      "outputs": []
    },
    {
      "cell_type": "markdown",
      "source": [
        "Utilities"
      ],
      "metadata": {
        "id": "g5OJ8MREk25u"
      }
    },
    {
      "cell_type": "code",
      "source": [
        "# imports"
      ],
      "metadata": {
        "id": "mvnb6qcumE6l"
      },
      "execution_count": null,
      "outputs": []
    },
    {
      "cell_type": "code",
      "source": [
        "# Train step\n",
        "\n",
        "def train_step(ds, batch_size, model, num_classes, loss_fn, optimizer):\n",
        "  \"\"\"function for one training step\"\"\"\n",
        "  model.train()\n",
        "  return loss"
      ],
      "metadata": {
        "id": "nqvceDzFmelb"
      },
      "execution_count": null,
      "outputs": []
    },
    {
      "cell_type": "code",
      "source": [
        "# Evaluation step\n",
        "\n",
        "def eval_step(ds, batch_size, model, num_class, loss_fn):\n",
        "  \"\"\"Eval function\"\"\"\n",
        "  return loss, y_true, y_predicted"
      ],
      "metadata": {
        "id": "LPQlQ4Oymcw0"
      },
      "execution_count": null,
      "outputs": []
    },
    {
      "cell_type": "code",
      "source": [
        "# Train per loop\n",
        "\n",
        "def train_per_worker(config):\n",
        "\n"
      ],
      "metadata": {
        "id": "mzxEM4FCmPVn"
      },
      "execution_count": null,
      "outputs": []
    },
    {
      "cell_type": "markdown",
      "source": [
        "Configurations\n",
        "\n",
        "\n",
        ">Inititalising all required configurations\n",
        "\n"
      ],
      "metadata": {
        "id": "kU7ZrxRfmQp8"
      }
    },
    {
      "cell_type": "code",
      "source": [
        "# Train per loop configuratiions\n",
        "\n",
        "trainloop_config = {}"
      ],
      "metadata": {
        "id": "4vrY46H1m22R"
      },
      "execution_count": null,
      "outputs": []
    },
    {
      "cell_type": "code",
      "source": [
        "# Scaling conffig\n",
        "scaling_config = ScalingConfig()"
      ],
      "metadata": {
        "id": "nii7pBhMm5fL"
      },
      "execution_count": null,
      "outputs": []
    },
    {
      "cell_type": "code",
      "source": [
        "# Checkpoint and run config\n",
        "checkpoint_config =\n",
        "run_config ="
      ],
      "metadata": {
        "id": "zBcZ4Yopm-6d"
      },
      "execution_count": null,
      "outputs": []
    },
    {
      "cell_type": "markdown",
      "source": [
        "Training"
      ],
      "metadata": {
        "id": "Ju0tQjydk6T9"
      }
    },
    {
      "cell_type": "code",
      "source": [
        "# Load and split data"
      ],
      "metadata": {
        "id": "Q-o-EpTBnIFa"
      },
      "execution_count": null,
      "outputs": []
    },
    {
      "cell_type": "code",
      "source": [
        "# Data pre-processing"
      ],
      "metadata": {
        "id": "gZcqP3mqnIcb"
      },
      "execution_count": null,
      "outputs": []
    },
    {
      "cell_type": "code",
      "source": [
        "# Dataset config"
      ],
      "metadata": {
        "id": "Efabad8jnMCS"
      },
      "execution_count": null,
      "outputs": []
    },
    {
      "cell_type": "code",
      "source": [
        "# Trainer"
      ],
      "metadata": {
        "id": "pDEe7G-1nQKL"
      },
      "execution_count": null,
      "outputs": []
    },
    {
      "cell_type": "code",
      "source": [
        "# Train"
      ],
      "metadata": {
        "id": "M5FY-3h5nVgW"
      },
      "execution_count": null,
      "outputs": []
    },
    {
      "cell_type": "code",
      "source": [
        "# Results and metrics"
      ],
      "metadata": {
        "id": "crWoCIsCnWaa"
      },
      "execution_count": null,
      "outputs": []
    },
    {
      "cell_type": "markdown",
      "source": [
        "Evaluation"
      ],
      "metadata": {
        "id": "enWOLqwok70Y"
      }
    },
    {
      "cell_type": "markdown",
      "source": [
        "Innference"
      ],
      "metadata": {
        "id": "_ZcW2Fulk9YM"
      }
    }
  ]
}